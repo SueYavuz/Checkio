{
 "cells": [
  {
   "cell_type": "code",
   "execution_count": 14,
   "id": "4a89d4d1",
   "metadata": {},
   "outputs": [],
   "source": [
    "def beginning_zeros(number: str):\n",
    "    new_num = str(number)\n",
    "    count = len(new_num) - len(new_num.lstrip(\"0\"))\n",
    "    return count\n",
    "\n",
    "    "
   ]
  },
  {
   "cell_type": "code",
   "execution_count": 12,
   "id": "e960dea3",
   "metadata": {},
   "outputs": [
    {
     "data": {
      "text/plain": [
       "0"
      ]
     },
     "execution_count": 12,
     "metadata": {},
     "output_type": "execute_result"
    }
   ],
   "source": [
    "beginning_zeros('100')"
   ]
  },
  {
   "cell_type": "code",
   "execution_count": 13,
   "id": "9bc648fd",
   "metadata": {},
   "outputs": [
    {
     "data": {
      "text/plain": [
       "0"
      ]
     },
     "execution_count": 13,
     "metadata": {},
     "output_type": "execute_result"
    }
   ],
   "source": [
    "beginning_zeros('100100')"
   ]
  },
  {
   "cell_type": "code",
   "execution_count": 9,
   "id": "4d86c522",
   "metadata": {},
   "outputs": [
    {
     "data": {
      "text/plain": [
       "4"
      ]
     },
     "execution_count": 9,
     "metadata": {},
     "output_type": "execute_result"
    }
   ],
   "source": [
    "beginning_zeros('0000')"
   ]
  },
  {
   "cell_type": "code",
   "execution_count": 5,
   "id": "de828a62",
   "metadata": {},
   "outputs": [
    {
     "data": {
      "text/plain": [
       "1"
      ]
     },
     "execution_count": 5,
     "metadata": {},
     "output_type": "execute_result"
    }
   ],
   "source": [
    "beginning_zeros('012345679')"
   ]
  },
  {
   "cell_type": "code",
   "execution_count": null,
   "id": "4a7cd4ad",
   "metadata": {},
   "outputs": [],
   "source": []
  }
 ],
 "metadata": {
  "kernelspec": {
   "display_name": "Python 3 (ipykernel)",
   "language": "python",
   "name": "python3"
  },
  "language_info": {
   "codemirror_mode": {
    "name": "ipython",
    "version": 3
   },
   "file_extension": ".py",
   "mimetype": "text/x-python",
   "name": "python",
   "nbconvert_exporter": "python",
   "pygments_lexer": "ipython3",
   "version": "3.9.7"
  }
 },
 "nbformat": 4,
 "nbformat_minor": 5
}
