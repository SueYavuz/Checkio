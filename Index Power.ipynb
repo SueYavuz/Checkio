{
 "cells": [
  {
   "cell_type": "code",
   "execution_count": 27,
   "id": "8191f513",
   "metadata": {},
   "outputs": [],
   "source": [
    "def index_power(array: list, n: int):\n",
    "    return array[n]**n if len(array) > n else -1\n"
   ]
  },
  {
   "cell_type": "code",
   "execution_count": 28,
   "id": "1a210621",
   "metadata": {},
   "outputs": [
    {
     "name": "stdout",
     "output_type": "stream",
     "text": [
      "9\n"
     ]
    }
   ],
   "source": [
    "print(index_power([1,2,3,4],2))"
   ]
  },
  {
   "cell_type": "code",
   "execution_count": 29,
   "id": "c1126dd2",
   "metadata": {},
   "outputs": [],
   "source": [
    "def index_power(array: list, n: int):\n",
    "      \n",
    "    if len(array)>n:\n",
    "        return array[n]**n\n",
    "    else:\n",
    "        return -1"
   ]
  },
  {
   "cell_type": "code",
   "execution_count": 30,
   "id": "8962bde6",
   "metadata": {},
   "outputs": [
    {
     "name": "stdout",
     "output_type": "stream",
     "text": [
      "9\n"
     ]
    }
   ],
   "source": [
    "print(index_power([1,2,3,4],2))"
   ]
  },
  {
   "cell_type": "code",
   "execution_count": 31,
   "id": "1cef5e9a",
   "metadata": {},
   "outputs": [
    {
     "data": {
      "text/plain": [
       "-1"
      ]
     },
     "execution_count": 31,
     "metadata": {},
     "output_type": "execute_result"
    }
   ],
   "source": [
    "index_power([1,2],3)"
   ]
  },
  {
   "cell_type": "code",
   "execution_count": 22,
   "id": "3d534bdc",
   "metadata": {},
   "outputs": [],
   "source": []
  },
  {
   "cell_type": "code",
   "execution_count": null,
   "id": "efb554c1",
   "metadata": {},
   "outputs": [],
   "source": []
  },
  {
   "cell_type": "code",
   "execution_count": null,
   "id": "9d5f8106",
   "metadata": {},
   "outputs": [],
   "source": []
  }
 ],
 "metadata": {
  "kernelspec": {
   "display_name": "Python 3 (ipykernel)",
   "language": "python",
   "name": "python3"
  },
  "language_info": {
   "codemirror_mode": {
    "name": "ipython",
    "version": 3
   },
   "file_extension": ".py",
   "mimetype": "text/x-python",
   "name": "python",
   "nbconvert_exporter": "python",
   "pygments_lexer": "ipython3",
   "version": "3.9.7"
  }
 },
 "nbformat": 4,
 "nbformat_minor": 5
}
