{
 "cells": [
  {
   "cell_type": "code",
   "execution_count": 2,
   "id": "8a42bfe3",
   "metadata": {},
   "outputs": [],
   "source": [
    "def string_length(text):\n",
    "    return len(text)"
   ]
  },
  {
   "cell_type": "code",
   "execution_count": 3,
   "id": "4bccef10",
   "metadata": {},
   "outputs": [
    {
     "data": {
      "text/plain": [
       "499"
      ]
     },
     "execution_count": 3,
     "metadata": {},
     "output_type": "execute_result"
    }
   ],
   "source": [
    "string_length(\"A bird moving along a telephone wire does not walk like a tightrope artist; instead, the bird will sidestep, switch-sidle, or 'hop.' Sidestepping (the way that people typically move along a ledge) involves alternately lifting each foot and moving it to the side while continuing to keep the same foot ahead. Switch-sidling means moving to the right or to the left by crossing one foot over the other in an exaggerated 'pigeon-toed' step. Hopping, of course, requires moving both feet simultaneously.\")"
   ]
  },
  {
   "cell_type": "code",
   "execution_count": null,
   "id": "c1c9e82d",
   "metadata": {},
   "outputs": [],
   "source": []
  }
 ],
 "metadata": {
  "kernelspec": {
   "display_name": "Python 3 (ipykernel)",
   "language": "python",
   "name": "python3"
  },
  "language_info": {
   "codemirror_mode": {
    "name": "ipython",
    "version": 3
   },
   "file_extension": ".py",
   "mimetype": "text/x-python",
   "name": "python",
   "nbconvert_exporter": "python",
   "pygments_lexer": "ipython3",
   "version": "3.9.7"
  }
 },
 "nbformat": 4,
 "nbformat_minor": 5
}
