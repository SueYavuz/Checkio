{
 "cells": [
  {
   "cell_type": "code",
   "execution_count": 10,
   "id": "677df226",
   "metadata": {},
   "outputs": [
    {
     "data": {
      "text/plain": [
       "'Hello'"
      ]
     },
     "execution_count": 10,
     "metadata": {},
     "output_type": "execute_result"
    }
   ],
   "source": [
    "def first_word(text):\n",
    "    a = (text).split()\n",
    "    return a[0]\n",
    "\n",
    "first_word(\"Hello World\")"
   ]
  },
  {
   "cell_type": "code",
   "execution_count": 9,
   "id": "88bdb2a2",
   "metadata": {},
   "outputs": [
    {
     "data": {
      "text/plain": [
       "'When'"
      ]
     },
     "execution_count": 9,
     "metadata": {},
     "output_type": "execute_result"
    }
   ],
   "source": [
    "first_word(\"When unconstrained by such a narrow perch, many birds walk or run using the alternating strides typical of most bipeds.\")"
   ]
  },
  {
   "cell_type": "code",
   "execution_count": null,
   "id": "7cc677a4",
   "metadata": {},
   "outputs": [],
   "source": []
  }
 ],
 "metadata": {
  "kernelspec": {
   "display_name": "Python 3 (ipykernel)",
   "language": "python",
   "name": "python3"
  },
  "language_info": {
   "codemirror_mode": {
    "name": "ipython",
    "version": 3
   },
   "file_extension": ".py",
   "mimetype": "text/x-python",
   "name": "python",
   "nbconvert_exporter": "python",
   "pygments_lexer": "ipython3",
   "version": "3.9.7"
  }
 },
 "nbformat": 4,
 "nbformat_minor": 5
}
