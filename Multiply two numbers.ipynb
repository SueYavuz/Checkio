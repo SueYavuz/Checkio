{
 "cells": [
  {
   "cell_type": "code",
   "execution_count": 1,
   "id": "b2501aae",
   "metadata": {},
   "outputs": [
    {
     "name": "stdout",
     "output_type": "stream",
     "text": [
      "<function mult_two at 0x7fa5e81a3b80>\n"
     ]
    }
   ],
   "source": [
    "def mult_two(a, b):\n",
    "    mult = a*b\n",
    "    \n",
    "    return mult\n",
    "print(mult_two)"
   ]
  },
  {
   "cell_type": "code",
   "execution_count": 2,
   "id": "431e84ae",
   "metadata": {},
   "outputs": [
    {
     "data": {
      "text/plain": [
       "49"
      ]
     },
     "execution_count": 2,
     "metadata": {},
     "output_type": "execute_result"
    }
   ],
   "source": [
    "mult_two(7,7)"
   ]
  },
  {
   "cell_type": "code",
   "execution_count": null,
   "id": "3dc97ebe",
   "metadata": {},
   "outputs": [],
   "source": []
  }
 ],
 "metadata": {
  "kernelspec": {
   "display_name": "Python 3 (ipykernel)",
   "language": "python",
   "name": "python3"
  },
  "language_info": {
   "codemirror_mode": {
    "name": "ipython",
    "version": 3
   },
   "file_extension": ".py",
   "mimetype": "text/x-python",
   "name": "python",
   "nbconvert_exporter": "python",
   "pygments_lexer": "ipython3",
   "version": "3.9.7"
  }
 },
 "nbformat": 4,
 "nbformat_minor": 5
}
