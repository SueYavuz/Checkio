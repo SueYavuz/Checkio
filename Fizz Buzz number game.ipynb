{
 "cells": [
  {
   "cell_type": "code",
   "execution_count": 33,
   "id": "25aff768",
   "metadata": {},
   "outputs": [],
   "source": [
    "def checkio(num):\n",
    "    \n",
    "    \n",
    "    if not num%15:\n",
    "        return \"Fizz Buzz\" \n",
    "\n",
    "    elif  not num%3:\n",
    "        return \"Fizz\" \n",
    "        \n",
    "    elif not num%5:\n",
    "        \n",
    "        return \"Buzz\"\n",
    "    \n",
    "    else:\n",
    "        return str(num)\n",
    "    \n",
    "        "
   ]
  },
  {
   "cell_type": "code",
   "execution_count": 34,
   "id": "122c29a6",
   "metadata": {},
   "outputs": [
    {
     "data": {
      "text/plain": [
       "'Fizz'"
      ]
     },
     "execution_count": 34,
     "metadata": {},
     "output_type": "execute_result"
    }
   ],
   "source": [
    "checkio(9)"
   ]
  },
  {
   "cell_type": "code",
   "execution_count": 35,
   "id": "ccf563bf",
   "metadata": {},
   "outputs": [
    {
     "data": {
      "text/plain": [
       "'Buzz'"
      ]
     },
     "execution_count": 35,
     "metadata": {},
     "output_type": "execute_result"
    }
   ],
   "source": [
    "checkio(880)"
   ]
  },
  {
   "cell_type": "code",
   "execution_count": 36,
   "id": "096842f4",
   "metadata": {},
   "outputs": [
    {
     "data": {
      "text/plain": [
       "'Fizz Buzz'"
      ]
     },
     "execution_count": 36,
     "metadata": {},
     "output_type": "execute_result"
    }
   ],
   "source": [
    "checkio(15)"
   ]
  },
  {
   "cell_type": "code",
   "execution_count": 37,
   "id": "6ff6ee99",
   "metadata": {},
   "outputs": [
    {
     "data": {
      "text/plain": [
       "'7'"
      ]
     },
     "execution_count": 37,
     "metadata": {},
     "output_type": "execute_result"
    }
   ],
   "source": [
    "checkio(7)"
   ]
  },
  {
   "cell_type": "code",
   "execution_count": 38,
   "id": "3c36cf25",
   "metadata": {},
   "outputs": [
    {
     "data": {
      "text/plain": [
       "'Fizz Buzz'"
      ]
     },
     "execution_count": 38,
     "metadata": {},
     "output_type": "execute_result"
    }
   ],
   "source": [
    "checkio(15)"
   ]
  },
  {
   "cell_type": "code",
   "execution_count": null,
   "id": "12b14523",
   "metadata": {},
   "outputs": [],
   "source": []
  }
 ],
 "metadata": {
  "kernelspec": {
   "display_name": "Python 3 (ipykernel)",
   "language": "python",
   "name": "python3"
  },
  "language_info": {
   "codemirror_mode": {
    "name": "ipython",
    "version": 3
   },
   "file_extension": ".py",
   "mimetype": "text/x-python",
   "name": "python",
   "nbconvert_exporter": "python",
   "pygments_lexer": "ipython3",
   "version": "3.9.7"
  }
 },
 "nbformat": 4,
 "nbformat_minor": 5
}
