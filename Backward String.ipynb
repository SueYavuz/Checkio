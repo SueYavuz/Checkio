{
 "cells": [
  {
   "cell_type": "code",
   "execution_count": 3,
   "id": "b79e2980",
   "metadata": {},
   "outputs": [],
   "source": [
    "def backward_string(x): \n",
    "    return str(x)[-1::-1]"
   ]
  },
  {
   "cell_type": "code",
   "execution_count": 4,
   "id": "af9a93dc",
   "metadata": {},
   "outputs": [
    {
     "data": {
      "text/plain": [
       "'jghfbcjdgdjgh'"
      ]
     },
     "execution_count": 4,
     "metadata": {},
     "output_type": "execute_result"
    }
   ],
   "source": [
    "backward_string('hgjdgdjcbfhgj')"
   ]
  },
  {
   "cell_type": "code",
   "execution_count": null,
   "id": "a5695c39",
   "metadata": {},
   "outputs": [],
   "source": []
  }
 ],
 "metadata": {
  "kernelspec": {
   "display_name": "Python 3 (ipykernel)",
   "language": "python",
   "name": "python3"
  },
  "language_info": {
   "codemirror_mode": {
    "name": "ipython",
    "version": 3
   },
   "file_extension": ".py",
   "mimetype": "text/x-python",
   "name": "python",
   "nbconvert_exporter": "python",
   "pygments_lexer": "ipython3",
   "version": "3.9.7"
  }
 },
 "nbformat": 4,
 "nbformat_minor": 5
}
